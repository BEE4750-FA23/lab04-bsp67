{
  "cells": [
    {
      "cell_type": "markdown",
      "id": "37acac57-15ea-4127-89b3-fcd589600cfd",
      "metadata": {},
      "source": [
        "# BEE 4750 Lab 4: Simulation-Optimization\n",
        "\n",
        "**Name**: Brooke Paykin\n",
        "\n",
        "**ID**: bsp67\n",
        "\n",
        "> **Due Date**\n",
        ">\n",
        "> Friday, 11/17/23, 9:00pm\n",
        "\n",
        "## Setup\n",
        "\n",
        "The following code should go at the top of most Julia scripts; it will\n",
        "load the local package environment and install any needed packages. You\n",
        "will see this often and shouldn’t need to touch it."
      ]
    },
    {
      "cell_type": "code",
      "execution_count": 12,
      "id": "5e950439",
      "metadata": {},
      "outputs": [
        {
          "name": "stderr",
          "output_type": "stream",
          "text": [
            "\u001b[32m\u001b[1m  Activating\u001b[22m\u001b[39m project at `~/github-classroom/BEE4750-FA23/lab04-bsp67`\n"
          ]
        }
      ],
      "source": [
        "import Pkg\n",
        "Pkg.activate(\".\")\n",
        "Pkg.instantiate()"
      ]
    },
    {
      "cell_type": "code",
      "execution_count": 13,
      "id": "feac28f5",
      "metadata": {},
      "outputs": [],
      "source": [
        "using Random # for random seeds\n",
        "using Distributions # statistical distribution interface\n",
        "using Roots # find zeros of functions\n",
        "using Metaheuristics # search algorithms\n",
        "using Plots # plotting"
      ]
    },
    {
      "cell_type": "markdown",
      "id": "675b9be5-2dbb-4360-be20-7a61db934a9d",
      "metadata": {},
      "source": [
        "## Overview\n",
        "\n",
        "In this lab, you will experiment with simulation-optimization with the\n",
        "shallow lake problem. The goal of this experimentation is to get an\n",
        "understanding of how to work with simulation-optimization methods and\n",
        "the impact of some choices involved in using these methods.\n",
        "\n",
        "Free free to delete some of the illustrative cells and code blocks in\n",
        "your notebook as you go through and solve the lab problems…this might\n",
        "help reduce some potential confusion while grading about what your\n",
        "answer is."
      ]
    },
    {
      "cell_type": "markdown",
      "id": "e24bbd67-63e0-4262-8d83-ae192828e478",
      "metadata": {},
      "source": [
        "## Introduction\n",
        "\n",
        "Due to ongoing economic activity, a town emits phosphorous into a\n",
        "shallow lake (with a concentration of $a_t$), which also receives\n",
        "non-point source runoff (concentration $y_t$) from the surrounding area.\n",
        "The concentration of the lake at time $t+1$ is given by\n",
        "$$X_{t+1} = X_t + a_t + y_t + \\frac{X_t^q}{1+X_t^q} - bX_t,$$\n",
        "\n",
        "where:\n",
        "\n",
        "| Parameter | Value                                                |\n",
        "|:---------:|:-----------------------------------------------------|\n",
        "|   $a_t$   | point-source phosphorous concentration from the town |\n",
        "|   $y_t$   | non-point-source phosphorous concentration           |\n",
        "|    $q$    | rate at which phosphorous is recycled from sediment  |\n",
        "|    $b$    | rate at which phosphorous leaves the lake            |\n",
        "\n",
        "and $X_0 = 0$, $y_t \\sim LogNormal(\\log(0.03), 0.25)$, $q=2.5$, and\n",
        "$b=0.4$.\n",
        "\n",
        "The goal of the optimization is to maximize the town’s average\n",
        "phosphorous concentration releases (as a proxy of economic activity):\n",
        "$\\max \\sum_{t=1}^T a_t / T$ over a 100-year period. We have decided\n",
        "(initially) that an acceptable solution is one which will result in the\n",
        "lake eutrophying no more than 10% of the time.\n",
        "\n",
        "The non-point source samples can be sampled using the following code\n",
        "block:"
      ]
    },
    {
      "cell_type": "code",
      "execution_count": 14,
      "id": "02dbd8b1",
      "metadata": {},
      "outputs": [
        {
          "data": {
            "text/plain": [
              "100×1000 Matrix{Float64}:\n",
              " 0.0294753  0.0459864  0.023513   …  0.0259183  0.0260934  0.0284652\n",
              " 0.034263   0.0222782  0.0459188     0.0288482  0.0480454  0.0531018\n",
              " 0.0245199  0.0296271  0.0445619     0.0246404  0.0250734  0.0304308\n",
              " 0.055448   0.0312     0.0228208     0.0298609  0.0428105  0.0256198\n",
              " 0.0401417  0.024978   0.0458244     0.0228935  0.0286062  0.0238694\n",
              " 0.0320754  0.021759   0.0471452  …  0.0472771  0.0187508  0.0306753\n",
              " 0.0464641  0.0416385  0.0246833     0.0382252  0.0288505  0.0226561\n",
              " 0.0244027  0.0432707  0.0341214     0.0238988  0.0427204  0.0316143\n",
              " 0.0231156  0.0279197  0.0217747     0.0231772  0.0335662  0.0324465\n",
              " 0.0276303  0.0305858  0.0440326     0.0289394  0.0312328  0.0173388\n",
              " ⋮                                ⋱                        \n",
              " 0.025665   0.0341366  0.0274747     0.0283546  0.0458031  0.0277959\n",
              " 0.0405629  0.0421121  0.0252557     0.0450377  0.0284411  0.0206434\n",
              " 0.0228445  0.0223746  0.0210942     0.0442834  0.0337672  0.0287835\n",
              " 0.0252604  0.0462868  0.0358435     0.0146043  0.023085   0.0240258\n",
              " 0.0237704  0.0378816  0.0291353  …  0.0442565  0.0326019  0.021258\n",
              " 0.0335883  0.0218181  0.0331417     0.0510932  0.0366858  0.0296993\n",
              " 0.0312679  0.0187135  0.0534007     0.0451143  0.026161   0.0183542\n",
              " 0.0382682  0.0310429  0.0296539     0.0471901  0.0283451  0.0219015\n",
              " 0.0256315  0.0232021  0.0239607     0.0350929  0.0293862  0.0348934"
            ]
          },
          "metadata": {},
          "output_type": "display_data"
        }
      ],
      "source": [
        "Random.seed!(1)\n",
        "\n",
        "T = 100 # length of simualtion\n",
        "n_samples = 1_000 # replace with number of samples if you experiment\n",
        "\n",
        "P_distribution = LogNormal(log(0.03), 0.25)\n",
        "y = rand(P_distribution, (T, n_samples)) # sample a T x n_samples matrix"
      ]
    },
    {
      "cell_type": "markdown",
      "id": "015c657d-3cae-40a2-aed4-604dd99bbc73",
      "metadata": {},
      "source": [
        "We write the lake model as a function:"
      ]
    },
    {
      "cell_type": "code",
      "execution_count": 15,
      "id": "20780fdf",
      "metadata": {},
      "outputs": [
        {
          "data": {
            "text/plain": [
              "lake (generic function with 1 method)"
            ]
          },
          "metadata": {},
          "output_type": "display_data"
        }
      ],
      "source": [
        "# lake function model\n",
        "# inputs:\n",
        "#   a: vector of point-source releases (to be optimized)\n",
        "#   y: randomly-sampled non-point sources\n",
        "#   q: lake phosphorous recycling rate\n",
        "#   b: phosphorous outflow rate\n",
        "# \n",
        "# returns:\n",
        "#   series of lake phosphorous concentrations\n",
        "function lake(a, y, q, b, T)\n",
        "    X = zeros(T+1, size(y, 2))\n",
        "    # calculate states\n",
        "    for t = 1:T\n",
        "        X[t+1, :] = X[t, :] .+ a[t] .+ y[t, :] .+ (X[t, :].^q./(1 .+ X[t, :].^q)) .- b.*X[t, :]\n",
        "    end\n",
        "    return X\n",
        "end"
      ]
    },
    {
      "cell_type": "markdown",
      "id": "f0969559-e292-4fb7-97fc-d6782d336856",
      "metadata": {},
      "source": [
        "However, this isn’t sufficient on its own! `Metaheuristics.jl` (and most\n",
        "simulation-optimization packages) require the use of a *wrapper*\n",
        "function, which accepts as inputs both parameters to be optimized (in\n",
        "this case, point-source releases `a`) and parameters which will be fixed\n",
        "(the others; see below for how to incorporate these into the syntax) and\n",
        "returns the required information for the optimization procedure.\n",
        "\n",
        "`Metaheuristics.jl` wants its optimizing wrapper function to return (in\n",
        "order):\n",
        "\n",
        "-   the objective(s) (in this case, the mean of `a`, $\\sum_t a_t / T$),\n",
        "-   a vector of the degrees to which the solution fails to achieve any\n",
        "    inequality constraints (positive values indicate a larger failure,\n",
        "    values below zero are considered acceptable)\n",
        "-   a vector of the degrees to which the solution fails to achieve any\n",
        "    equality constraints (only values of zero indicate success), which\n",
        "    in this case is not relevant, so we just return `[0.0]`."
      ]
    },
    {
      "cell_type": "code",
      "execution_count": 16,
      "id": "123470aa",
      "metadata": {},
      "outputs": [
        {
          "data": {
            "text/plain": [
              "lake_opt (generic function with 1 method)"
            ]
          },
          "metadata": {},
          "output_type": "display_data"
        }
      ],
      "source": [
        "# function producing optimization outputs\n",
        "# inputs:\n",
        "#   a: vector of point-source releases (to be optimized)\n",
        "#   y: randomly-sampled non-point sources\n",
        "#   q: lake phosphorous recycling rate\n",
        "#   b: phosphorous outflow rate\n",
        "# \n",
        "# returns:\n",
        "#   - objective: mean value of point-source releases\n",
        "#   - inequality constraint failure vector\n",
        "#   - equality constraint failure vector (in this case, always [0.0])\n",
        "function lake_opt(a, y, q, b, T, Xcrit)\n",
        "    X = lake(a, y, q, b, T)\n",
        "    # calculate exceedance of critical value\n",
        "    Pexceed = sum(X[T+1, :] .> Xcrit) / size(X, 2)\n",
        "    failconst = [Pexceed - 0.1] # replace 0.1 if you experiment with the failure probability\n",
        "    return mean(a), failconst, [0.0]\n",
        "end"
      ]
    },
    {
      "cell_type": "markdown",
      "id": "f6e90369-d38f-432d-807a-49e680fe5e57",
      "metadata": {},
      "source": [
        "To optimize using DE (differential evolution), use the following syntax:\n",
        "\n",
        "``` julia\n",
        "results = optimize(f, bounds, DE(options=Options(f_calls_limit=max_evals)))\n",
        "```\n",
        "\n",
        "where `bounds` is a `Matrix` of lower bounds (first row) and upper\n",
        "bounds (last row), and `max_evals` is an integer for the maximum number\n",
        "of evaluations.\n",
        "\n",
        "-   For example, to set bounds for all decision variables between 0 and\n",
        "    0.5, you can use\n",
        "\n",
        "``` julia\n",
        "bounds = [zeros(T) 0.5ones(T)]'\n",
        "```\n",
        "\n",
        "-   Increasing `max_evals` can help you find a better solution, but at a\n",
        "    larger computational expense.\n",
        "-   You can use an anonymous function to fix values for non-optimized\n",
        "    parameters, *e.g.*\n",
        "\n",
        "``` julia\n",
        "y = ...\n",
        "q = ...\n",
        "b = ...\n",
        "T = ...\n",
        "Xcrit = ...\n",
        "results = optimize(a -> lake_opt(a, y, q, b, t, Xcrit), bounds, DE(options=Options(f_calls_limit=max_evals)))\n",
        "```\n",
        "\n",
        "Then to get the approximated minimum value:\n",
        "\n",
        "``` julia\n",
        "fx = minimum(result)\n",
        "```\n",
        "\n",
        "and the approximated minimizing value:\n",
        "\n",
        "``` julia\n",
        "x = minimizer(result)\n",
        "```\n",
        "\n",
        "The last piece is to get the critical value (to identify failures),\n",
        "which we can do using `Roots.jl`, which finds zeros of functions:"
      ]
    },
    {
      "cell_type": "code",
      "execution_count": 17,
      "id": "8241d3ef",
      "metadata": {},
      "outputs": [
        {
          "data": {
            "text/plain": [
              "0.6678778690448219"
            ]
          },
          "metadata": {},
          "output_type": "display_data"
        }
      ],
      "source": [
        "#phosphorus recyling rate\n",
        "q=2.5\n",
        "\n",
        "#phospohorus leaving rate\n",
        "b=0.4 \n",
        "\n",
        "# define a function whose zeros are the critical values\n",
        "P_flux(x) = (x^q/(1+x^q)) - b*x\n",
        "# use Roots.find_zero() to find the non-eutrophication and non-zero critical value; we know from visual inspection in class that this is bounded between 0.1 and 1.5.\n",
        "Xcrit = find_zero(P_flux, (0.1, 1.5))"
      ]
    },
    {
      "cell_type": "markdown",
      "id": "2a2a9a6c-0a6f-484a-9996-ad9987bc3193",
      "metadata": {},
      "source": [
        "## Problems\n",
        "\n",
        "### Problem 1 (2 points)\n",
        "\n",
        "Using the default setup above, find the approximate optimum value. What\n",
        "is the value of the objective function, and how many failures (you can\n",
        "evaluate the `lake` function using your solution to find how many\n",
        "end-values are above the critical value).\n"
      ]
    },
    {
      "cell_type": "code",
      "execution_count": 29,
      "id": "d8cf3d19",
      "metadata": {},
      "outputs": [
        {
          "name": "stdout",
          "output_type": "stream",
          "text": [
            "Optimal objective value: 0.21058759608000296\n",
            "Number of failures: 1000\n"
          ]
        }
      ],
      "source": [
        "# parameters y, q, b, T, Xcrit were previously defined\n",
        "\n",
        "Random.seed!(1)\n",
        "\n",
        "#set bounds for all decision variables between 0 and 0.5\n",
        "bounds = [zeros(T) 0.5*ones(T)]'\n",
        "\n",
        "#set # of simulations\n",
        "max_evals = 1000\n",
        "\n",
        "results = optimize(a -> lake_opt(a, y, q, b, T, Xcrit), bounds, DE(options=Options(f_calls_limit=max_evals)))\n",
        "\n",
        "# get approximated minimum value\n",
        "fx = minimum(results)\n",
        "\n",
        "#get approximated minimizing value\n",
        "x = minimizer(results)\n",
        "\n",
        "#get the critical value (to identify failures), which we can do using Roots.jl, which finds zeros of function\n",
        "#Xcrit = find_zero(P_flux, (0.1, 1.5)) #redunant bc previously defined, but i wanted to write it here\n",
        "\n",
        "# Evaluate the lake function using the solution to count failures\n",
        "X_opt = lake(x, y, q, b, T)\n",
        "num_failures = sum(X_opt[T+1, :] .> Xcrit)\n",
        "\n",
        "# Display the results\n",
        "println(\"Optimal objective value: $fx\")\n",
        "println(\"Number of failures: $num_failures\")\n"
      ]
    },
    {
      "cell_type": "markdown",
      "id": "e95ebc11",
      "metadata": {},
      "source": [
        "According to my code number of failures was 1000. The number of simulations run (max_evals) was also 1000. This means that there was a 100% failure rate, meaning that all simulations caused there to be eutrophication.\n",
        "\n",
        "According to the code, the optimal objective value is approximately 0.2105. "
      ]
    },
    {
      "cell_type": "markdown",
      "id": "0798aa5d-d992-4181-9d1d-8cc614e0b69a",
      "metadata": {},
      "source": [
        "### Problem 2 (5 points)\n",
        "Feel free to experiment with some of the degrees of freedom in finding\n",
        "the optimum value. For example:\n",
        "\n",
        "-   What failure probability are you using to characterize acceptable\n",
        "    solutions?\n",
        "-   How many Monte Carlo samples are you using?\n",
        "-   What bounds are you searching over for the releases?\n",
        "-   How many function evaluations are you using for the search?\n",
        "-   What is the impact of different [`Metaheuristics.jl`\n",
        "    algorithms](https://docs.juliahub.com/Metaheuristics/aJ70z/3.2.12/algorithms/)?\n",
        "\n",
        "Note that you might want to modify some of these together: for example,\n",
        "lower acceptable failure probabilities often require more function\n",
        "evaluations to find acceptable values, and more Monte Carlo samples\n",
        "increase computational expense, so fewer function evaluations may be\n",
        "completed in the same time.\n",
        "\n",
        "Provide a description of what you’ve modified and why. What was the new\n",
        "solution that you found? Does it satisfy the constraints?"
      ]
    },
    {
      "cell_type": "markdown",
      "id": "f4faaebd",
      "metadata": {},
      "source": [
        "EXPERIMENT #1: Exploring failure probability\n",
        "\n",
        "In problem 1, the failure probabily is 10%. \n",
        "\n",
        "I will run an experiment code with a lower failure probabily by changing the failure probability to 5%. Since this is defined in the lake function, I will first need to modify the lake function and manipulate the failconst  to be Pexceed - 0.05 instead of Pexceed - 0.1. Since I lowered the failure probability and I know that lower acceptable failure probabilities often require more function evaluations to find acceptable values, I will also increase max_evals from 1000 to 2000.\n",
        "\n",
        "Next, I will run an experiment code with a higher failure probabily by changing the failure probability to 15%. Since this is defined in the lake function, I will first need to modify the lake function and manipulate the failconst  to be Pexceed - 0.15 instead of Pexceed - 0.1. For experiments where I have increased the failure porbability, I will not increase my number of function evaluations as it is lower acceptable probabilities that often require more function evalautions, not higher probabilities. As such, max_evals will be set to 1000. \n",
        "\n",
        "Next,  I will run an experiment code with an even higher failure probabily by changing the failure probability to 50%. Since this is defined in the lake function, I will first need to modify the lake function and manipulate the failconst  to be Pexceed - 0.50 instead of Pexceed - 0.1. For experiments where I have increased the failure porbability, I will not increase my number of function evaluations as it is lower acceptable probabilities that often require more function evalautions, not higher probabilities. As such, max_evals will be set to 1000. \n",
        "\n"
      ]
    },
    {
      "cell_type": "code",
      "execution_count": 42,
      "id": "c1e42f62",
      "metadata": {},
      "outputs": [
        {
          "data": {
            "text/plain": [
              "lake_opt (generic function with 1 method)"
            ]
          },
          "metadata": {},
          "output_type": "display_data"
        }
      ],
      "source": [
        "#EXPLORING FAILURE PROBABILY BY REDUCING IT\n",
        "# function producing optimization outputs\n",
        "# inputs:\n",
        "#   a: vector of point-source releases (to be optimized)\n",
        "#   y: randomly-sampled non-point sources\n",
        "#   q: lake phosphorous recycling rate\n",
        "#   b: phosphorous outflow rate\n",
        "# \n",
        "# returns:\n",
        "#   - objective: mean value of point-source releases\n",
        "#   - inequality constraint failure vector\n",
        "#   - equality constraint failure vector (in this case, always [0.0])\n",
        "function lake_opt(a, y, q, b, T, Xcrit)\n",
        "    X = lake(a, y, q, b, T)\n",
        "    # calculate exceedance of critical value\n",
        "    Pexceed = sum(X[T+1, :] .> Xcrit) / size(X, 2)\n",
        "    failconst = [Pexceed - 0.05] # replaced 0.1 with 0.05 to experiment with the failure probability\n",
        "    return mean(a), failconst, [0.0]\n",
        "end"
      ]
    },
    {
      "cell_type": "code",
      "execution_count": 43,
      "id": "782ec057",
      "metadata": {},
      "outputs": [
        {
          "name": "stdout",
          "output_type": "stream",
          "text": [
            "Optimal objective value: 0.20390011684353343\n",
            "Number of failures: 1000\n"
          ]
        }
      ],
      "source": [
        "#EXPLORING FAILURE PROBABILY\n",
        "# parameters y, q, b, T, Xcrit were previously defined\n",
        "\n",
        "Random.seed!(1)\n",
        "\n",
        "#set bounds for all decision variables between 0 and 0.5\n",
        "bounds = [zeros(T) 0.5*ones(T)]'\n",
        "\n",
        "#set # of simulations\n",
        "max_evals = 2000\n",
        "\n",
        "results = optimize(a -> lake_opt(a, y, q, b, T, Xcrit), bounds, DE(options=Options(f_calls_limit=max_evals)))\n",
        "\n",
        "# get approximated minimum value\n",
        "fx = minimum(results)\n",
        "\n",
        "#get approximated minimizing value\n",
        "x = minimizer(results)\n",
        "\n",
        "#get the critical value (to identify failures), which we can do using Roots.jl, which finds zeros of function\n",
        "#Xcrit = find_zero(P_flux, (0.1, 1.5)) #redunant bc previously defined, but i wanted to write it here\n",
        "\n",
        "# Evaluate the lake function using the solution to count failures\n",
        "X_opt = lake(x, y, q, b, T)\n",
        "num_failures = sum(X_opt[T+1, :] .> Xcrit)\n",
        "\n",
        "# Display the results\n",
        "println(\"Optimal objective value: $fx\")\n",
        "println(\"Number of failures: $num_failures\")\n"
      ]
    },
    {
      "cell_type": "markdown",
      "id": "ae95807d",
      "metadata": {},
      "source": [
        "Now I will increase the failure probability to 15%"
      ]
    },
    {
      "cell_type": "code",
      "execution_count": 37,
      "id": "4202806d",
      "metadata": {},
      "outputs": [
        {
          "data": {
            "text/plain": [
              "lake_opt (generic function with 1 method)"
            ]
          },
          "metadata": {},
          "output_type": "display_data"
        }
      ],
      "source": [
        "#EXPLORING FAILURE PROBABILY BY INCREASING IT\n",
        "# function producing optimization outputs\n",
        "# inputs:\n",
        "#   a: vector of point-source releases (to be optimized)\n",
        "#   y: randomly-sampled non-point sources\n",
        "#   q: lake phosphorous recycling rate\n",
        "#   b: phosphorous outflow rate\n",
        "# \n",
        "# returns:\n",
        "#   - objective: mean value of point-source releases\n",
        "#   - inequality constraint failure vector\n",
        "#   - equality constraint failure vector (in this case, always [0.0])\n",
        "function lake_opt(a, y, q, b, T, Xcrit)\n",
        "    X = lake(a, y, q, b, T)\n",
        "    # calculate exceedance of critical value\n",
        "    Pexceed = sum(X[T+1, :] .> Xcrit) / size(X, 2)\n",
        "    failconst = [Pexceed - 0.15] # replaced 0.1 with 0.15 to experiment with the failure probability\n",
        "    return mean(a), failconst, [0.0]\n",
        "end"
      ]
    },
    {
      "cell_type": "code",
      "execution_count": 38,
      "id": "5a25cd3a",
      "metadata": {},
      "outputs": [
        {
          "name": "stdout",
          "output_type": "stream",
          "text": [
            "Optimal objective value: 0.21058759608000296\n",
            "Number of failures: 1000\n"
          ]
        }
      ],
      "source": [
        "#EXPLORING FAILURE PROBABILY BY INCREASING IT\n",
        "# parameters y, q, b, T, Xcrit were previously defined\n",
        "\n",
        "Random.seed!(1)\n",
        "\n",
        "#set bounds for all decision variables between 0 and 0.5\n",
        "bounds = [zeros(T) 0.5*ones(T)]'\n",
        "\n",
        "#set # of simulations\n",
        "max_evals = 1000\n",
        "\n",
        "results = optimize(a -> lake_opt(a, y, q, b, T, Xcrit), bounds, DE(options=Options(f_calls_limit=max_evals)))\n",
        "\n",
        "# get approximated minimum value\n",
        "fx = minimum(results)\n",
        "\n",
        "#get approximated minimizing value\n",
        "x = minimizer(results)\n",
        "\n",
        "#get the critical value (to identify failures), which we can do using Roots.jl, which finds zeros of function\n",
        "#Xcrit = find_zero(P_flux, (0.1, 1.5)) #redunant bc previously defined, but i wanted to write it here\n",
        "\n",
        "# Evaluate the lake function using the solution to count failures\n",
        "X_opt = lake(x, y, q, b, T)\n",
        "num_failures = sum(X_opt[T+1, :] .> Xcrit)\n",
        "\n",
        "# Display the results\n",
        "println(\"Optimal objective value: $fx\")\n",
        "println(\"Number of failures: $num_failures\")\n"
      ]
    },
    {
      "cell_type": "code",
      "execution_count": 39,
      "id": "4844771c",
      "metadata": {},
      "outputs": [
        {
          "data": {
            "text/plain": [
              "lake_opt (generic function with 1 method)"
            ]
          },
          "metadata": {},
          "output_type": "display_data"
        }
      ],
      "source": [
        "#EXPLORING FAILURE PROBABILY BY INCREASING IT\n",
        "# function producing optimization outputs\n",
        "# inputs:\n",
        "#   a: vector of point-source releases (to be optimized)\n",
        "#   y: randomly-sampled non-point sources\n",
        "#   q: lake phosphorous recycling rate\n",
        "#   b: phosphorous outflow rate\n",
        "# \n",
        "# returns:\n",
        "#   - objective: mean value of point-source releases\n",
        "#   - inequality constraint failure vector\n",
        "#   - equality constraint failure vector (in this case, always [0.0])\n",
        "function lake_opt(a, y, q, b, T, Xcrit)\n",
        "    X = lake(a, y, q, b, T)\n",
        "    # calculate exceedance of critical value\n",
        "    Pexceed = sum(X[T+1, :] .> Xcrit) / size(X, 2)\n",
        "    failconst = [Pexceed - 0.50] # replaced 0.1 with 0.50 to experiment with the failure probability\n",
        "    return mean(a), failconst, [0.0]\n",
        "end"
      ]
    },
    {
      "cell_type": "code",
      "execution_count": 40,
      "id": "9f8b5291",
      "metadata": {},
      "outputs": [
        {
          "name": "stdout",
          "output_type": "stream",
          "text": [
            "Optimal objective value: 0.21058759608000296\n",
            "Number of failures: 1000\n"
          ]
        }
      ],
      "source": [
        "#EXPLORING FAILURE PROBABILY BY INCREASING IT\n",
        "# parameters y, q, b, T, Xcrit were previously defined\n",
        "\n",
        "Random.seed!(1)\n",
        "\n",
        "#set bounds for all decision variables between 0 and 0.5\n",
        "bounds = [zeros(T) 0.5*ones(T)]'\n",
        "\n",
        "#set # of simulations\n",
        "max_evals = 1000\n",
        "\n",
        "results = optimize(a -> lake_opt(a, y, q, b, T, Xcrit), bounds, DE(options=Options(f_calls_limit=max_evals)))\n",
        "\n",
        "# get approximated minimum value\n",
        "fx = minimum(results)\n",
        "\n",
        "#get approximated minimizing value\n",
        "x = minimizer(results)\n",
        "\n",
        "#get the critical value (to identify failures), which we can do using Roots.jl, which finds zeros of function\n",
        "#Xcrit = find_zero(P_flux, (0.1, 1.5)) #redunant bc previously defined, but i wanted to write it here\n",
        "\n",
        "# Evaluate the lake function using the solution to count failures\n",
        "X_opt = lake(x, y, q, b, T)\n",
        "num_failures = sum(X_opt[T+1, :] .> Xcrit)\n",
        "\n",
        "# Display the results\n",
        "println(\"Optimal objective value: $fx\")\n",
        "println(\"Number of failures: $num_failures\")\n"
      ]
    },
    {
      "cell_type": "markdown",
      "id": "0d3a9c6a",
      "metadata": {},
      "source": [
        "I found that when I decreased the failure probability (I tested 0.05) and changed my number of evaluations to 2000, my optimal objective value changed slightly. It became 0.20390011684353343\n",
        "instead of 0.21058759608000296. Interestly, the number of failures remained 1000. This means that there was a 50% fail rate and eutrophication resulted in 50% of my simualtions. \n",
        "\n",
        "\n",
        "When I increased the failure probability (I tested 0.15 and 0.50) and kept the number of evaluations at 1000, my optimal objective value did not change from problem 1 nor did it change my number of failures from problem 1. In other words, the optimal objective value was  0.21058759608000296 and the number of failures remained 1000. This means that there was a 100% fail rate and eutrophication resulted in 100% of my simualtions. \n"
      ]
    },
    {
      "cell_type": "markdown",
      "id": "f08a2993",
      "metadata": {},
      "source": [
        "I then decided that I wanted to test what would happen if I only changed the number of evalutions to determine. I decided to keep the failure probability at 10% but change the my number of evaluations to 2000. Please see below for the experiment and results."
      ]
    },
    {
      "cell_type": "code",
      "execution_count": 44,
      "id": "3fb1c4ef",
      "metadata": {},
      "outputs": [
        {
          "data": {
            "text/plain": [
              "lake_opt (generic function with 1 method)"
            ]
          },
          "metadata": {},
          "output_type": "display_data"
        }
      ],
      "source": [
        "#EXPLORING NUMBER OF EVAULATIONS ONLY\n",
        "# function producing optimization outputs\n",
        "# inputs:\n",
        "#   a: vector of point-source releases (to be optimized)\n",
        "#   y: randomly-sampled non-point sources\n",
        "#   q: lake phosphorous recycling rate\n",
        "#   b: phosphorous outflow rate\n",
        "# \n",
        "# returns:\n",
        "#   - objective: mean value of point-source releases\n",
        "#   - inequality constraint failure vector\n",
        "#   - equality constraint failure vector (in this case, always [0.0])\n",
        "function lake_opt(a, y, q, b, T, Xcrit)\n",
        "    X = lake(a, y, q, b, T)\n",
        "    # calculate exceedance of critical value\n",
        "    Pexceed = sum(X[T+1, :] .> Xcrit) / size(X, 2)\n",
        "    failconst = [Pexceed - 0.10] # 0.10 failure probability\n",
        "    return mean(a), failconst, [0.0]\n",
        "end"
      ]
    },
    {
      "cell_type": "code",
      "execution_count": 45,
      "id": "ab9ecedf",
      "metadata": {},
      "outputs": [
        {
          "name": "stdout",
          "output_type": "stream",
          "text": [
            "Optimal objective value: 0.20390011684353343\n",
            "Number of failures: 1000\n"
          ]
        }
      ],
      "source": [
        "#EXPLORING NUMBER OF EVALUATIONS ONLY\n",
        "# parameters y, q, b, T, Xcrit were previously defined\n",
        "\n",
        "Random.seed!(1)\n",
        "\n",
        "#set bounds for all decision variables between 0 and 0.5\n",
        "bounds = [zeros(T) 0.5*ones(T)]'\n",
        "\n",
        "#set # of simulations\n",
        "max_evals = 2000\n",
        "\n",
        "results = optimize(a -> lake_opt(a, y, q, b, T, Xcrit), bounds, DE(options=Options(f_calls_limit=max_evals)))\n",
        "\n",
        "# get approximated minimum value\n",
        "fx = minimum(results)\n",
        "\n",
        "#get approximated minimizing value\n",
        "x = minimizer(results)\n",
        "\n",
        "#get the critical value (to identify failures), which we can do using Roots.jl, which finds zeros of function\n",
        "#Xcrit = find_zero(P_flux, (0.1, 1.5)) #redunant bc previously defined, but i wanted to write it here\n",
        "\n",
        "# Evaluate the lake function using the solution to count failures\n",
        "X_opt = lake(x, y, q, b, T)\n",
        "num_failures = sum(X_opt[T+1, :] .> Xcrit)\n",
        "\n",
        "# Display the results\n",
        "println(\"Optimal objective value: $fx\")\n",
        "println(\"Number of failures: $num_failures\")\n"
      ]
    },
    {
      "cell_type": "markdown",
      "id": "6afbf8db",
      "metadata": {},
      "source": [
        "Note that whether the max_evals = 2000 or 1000, there are still reported to be 1000 failures. \n",
        "\n",
        "I found that whether the failure probability was 5% or 10%, it did not affect the optimal solution. However, when the sample size was increased, the optimal solution changed. Indeed, a failure probability of 5% and max_evals = 2000 yields an optimal value of approximately 0.2039 AND failure probability of 10% and max_evals = 2000 yields an optimal value of approximately 0.2039. This implies that it was the max_evals that effected the optimal value, not the failure probability. To test this, I decided to run experiments with increased failure probability and increased max_evals. If the results reamin 0.2039 and 1000, then the implication still appears to be correct."
      ]
    },
    {
      "cell_type": "code",
      "execution_count": 46,
      "id": "1fea7c5f",
      "metadata": {},
      "outputs": [
        {
          "data": {
            "text/plain": [
              "lake_opt (generic function with 1 method)"
            ]
          },
          "metadata": {},
          "output_type": "display_data"
        }
      ],
      "source": [
        "#increase NUMBER OF EVAULATIONS to 2000  + increase failure probability to 0.5\n",
        "# function producing optimization outputs\n",
        "# inputs:\n",
        "#   a: vector of point-source releases (to be optimized)\n",
        "#   y: randomly-sampled non-point sources\n",
        "#   q: lake phosphorous recycling rate\n",
        "#   b: phosphorous outflow rate\n",
        "# \n",
        "# returns:\n",
        "#   - objective: mean value of point-source releases\n",
        "#   - inequality constraint failure vector\n",
        "#   - equality constraint failure vector (in this case, always [0.0])\n",
        "function lake_opt(a, y, q, b, T, Xcrit)\n",
        "    X = lake(a, y, q, b, T)\n",
        "    # calculate exceedance of critical value\n",
        "    Pexceed = sum(X[T+1, :] .> Xcrit) / size(X, 2)\n",
        "    failconst = [Pexceed - 0.50] # 0.50 failure probability\n",
        "    return mean(a), failconst, [0.0]\n",
        "end"
      ]
    },
    {
      "cell_type": "code",
      "execution_count": 47,
      "id": "8f85f78f",
      "metadata": {},
      "outputs": [
        {
          "name": "stdout",
          "output_type": "stream",
          "text": [
            "Optimal objective value: 0.20390011684353343\n",
            "Number of failures: 1000\n"
          ]
        }
      ],
      "source": [
        "#EXPLORING NUMBER OF EVALUATIONS ONLY\n",
        "# parameters y, q, b, T, Xcrit were previously defined\n",
        "\n",
        "Random.seed!(1)\n",
        "\n",
        "#set bounds for all decision variables between 0 and 0.5\n",
        "bounds = [zeros(T) 0.5*ones(T)]'\n",
        "\n",
        "#set # of simulations\n",
        "max_evals = 2000\n",
        "\n",
        "results = optimize(a -> lake_opt(a, y, q, b, T, Xcrit), bounds, DE(options=Options(f_calls_limit=max_evals)))\n",
        "\n",
        "# get approximated minimum value\n",
        "fx = minimum(results)\n",
        "\n",
        "#get approximated minimizing value\n",
        "x = minimizer(results)\n",
        "\n",
        "#get the critical value (to identify failures), which we can do using Roots.jl, which finds zeros of function\n",
        "#Xcrit = find_zero(P_flux, (0.1, 1.5)) #redunant bc previously defined, but i wanted to write it here\n",
        "\n",
        "# Evaluate the lake function using the solution to count failures\n",
        "X_opt = lake(x, y, q, b, T)\n",
        "num_failures = sum(X_opt[T+1, :] .> Xcrit)\n",
        "\n",
        "# Display the results\n",
        "println(\"Optimal objective value: $fx\")\n",
        "println(\"Number of failures: $num_failures\")\n"
      ]
    },
    {
      "cell_type": "markdown",
      "id": "3d181159",
      "metadata": {},
      "source": [
        "Even with a failure probability of 0.50, when the max_evals was set to 2000 it yielded the answer Optimal objective value: 0.20390011684353343 and Number of failures: 1000. This once again affirms that only max_evals are effecting the optimal objective value and that the failure probability is not affecting the optimal objective failure. \n",
        "\n",
        "I decided to experiment with max evals being decreased next and reset the failure probabiliyt to 10%. I am first testing max_evals = 750, then 500, then 150"
      ]
    },
    {
      "cell_type": "code",
      "execution_count": 48,
      "id": "45220625",
      "metadata": {},
      "outputs": [
        {
          "data": {
            "text/plain": [
              "lake_opt (generic function with 1 method)"
            ]
          },
          "metadata": {},
          "output_type": "display_data"
        }
      ],
      "source": [
        "#decrease NUMBER OF EVAULATIONS to 2000  + reset failure probability to 0.1\n",
        "# function producing optimization outputs\n",
        "# inputs:\n",
        "#   a: vector of point-source releases (to be optimized)\n",
        "#   y: randomly-sampled non-point sources\n",
        "#   q: lake phosphorous recycling rate\n",
        "#   b: phosphorous outflow rate\n",
        "# \n",
        "# returns:\n",
        "#   - objective: mean value of point-source releases\n",
        "#   - inequality constraint failure vector\n",
        "#   - equality constraint failure vector (in this case, always [0.0])\n",
        "function lake_opt(a, y, q, b, T, Xcrit)\n",
        "    X = lake(a, y, q, b, T)\n",
        "    # calculate exceedance of critical value\n",
        "    Pexceed = sum(X[T+1, :] .> Xcrit) / size(X, 2)\n",
        "    failconst = [Pexceed - 0.10] # 0.10 failure probability\n",
        "    return mean(a), failconst, [0.0]\n",
        "end"
      ]
    },
    {
      "cell_type": "code",
      "execution_count": 49,
      "id": "186d13d0",
      "metadata": {},
      "outputs": [
        {
          "name": "stdout",
          "output_type": "stream",
          "text": [
            "Optimal objective value: 0.21058759608000296\n",
            "Number of failures: 1000\n"
          ]
        }
      ],
      "source": [
        "#EXPLORING NUMBER OF EVALUATIONS ONLY\n",
        "# parameters y, q, b, T, Xcrit were previously defined\n",
        "\n",
        "Random.seed!(1)\n",
        "\n",
        "#set bounds for all decision variables between 0 and 0.5\n",
        "bounds = [zeros(T) 0.5*ones(T)]'\n",
        "\n",
        "#set # of simulations\n",
        "max_evals = 750\n",
        "\n",
        "results = optimize(a -> lake_opt(a, y, q, b, T, Xcrit), bounds, DE(options=Options(f_calls_limit=max_evals)))\n",
        "\n",
        "# get approximated minimum value\n",
        "fx = minimum(results)\n",
        "\n",
        "#get approximated minimizing value\n",
        "x = minimizer(results)\n",
        "\n",
        "#get the critical value (to identify failures), which we can do using Roots.jl, which finds zeros of function\n",
        "#Xcrit = find_zero(P_flux, (0.1, 1.5)) #redunant bc previously defined, but i wanted to write it here\n",
        "\n",
        "# Evaluate the lake function using the solution to count failures\n",
        "X_opt = lake(x, y, q, b, T)\n",
        "num_failures = sum(X_opt[T+1, :] .> Xcrit)\n",
        "\n",
        "# Display the results\n",
        "println(\"Optimal objective value: $fx\")\n",
        "println(\"Number of failures: $num_failures\")\n"
      ]
    },
    {
      "cell_type": "code",
      "execution_count": 50,
      "id": "01b6c4d6",
      "metadata": {},
      "outputs": [
        {
          "name": "stdout",
          "output_type": "stream",
          "text": [
            "Optimal objective value: 0.21058759608000296\n",
            "Number of failures: 1000\n"
          ]
        }
      ],
      "source": [
        "#EXPLORING NUMBER OF EVALUATIONS ONLY\n",
        "# parameters y, q, b, T, Xcrit were previously defined\n",
        "\n",
        "Random.seed!(1)\n",
        "\n",
        "#set bounds for all decision variables between 0 and 0.5\n",
        "bounds = [zeros(T) 0.5*ones(T)]'\n",
        "\n",
        "#set # of simulations\n",
        "max_evals = 500\n",
        "\n",
        "results = optimize(a -> lake_opt(a, y, q, b, T, Xcrit), bounds, DE(options=Options(f_calls_limit=max_evals)))\n",
        "\n",
        "# get approximated minimum value\n",
        "fx = minimum(results)\n",
        "\n",
        "#get approximated minimizing value\n",
        "x = minimizer(results)\n",
        "\n",
        "#get the critical value (to identify failures), which we can do using Roots.jl, which finds zeros of function\n",
        "#Xcrit = find_zero(P_flux, (0.1, 1.5)) #redunant bc previously defined, but i wanted to write it here\n",
        "\n",
        "# Evaluate the lake function using the solution to count failures\n",
        "X_opt = lake(x, y, q, b, T)\n",
        "num_failures = sum(X_opt[T+1, :] .> Xcrit)\n",
        "\n",
        "# Display the results\n",
        "println(\"Optimal objective value: $fx\")\n",
        "println(\"Number of failures: $num_failures\")\n"
      ]
    },
    {
      "cell_type": "code",
      "execution_count": 51,
      "id": "1aba15c7",
      "metadata": {},
      "outputs": [
        {
          "name": "stdout",
          "output_type": "stream",
          "text": [
            "Optimal objective value: 0.21058759608000296\n",
            "Number of failures: 1000\n"
          ]
        }
      ],
      "source": [
        "#EXPLORING NUMBER OF EVALUATIONS ONLY\n",
        "# parameters y, q, b, T, Xcrit were previously defined\n",
        "\n",
        "Random.seed!(1)\n",
        "\n",
        "#set bounds for all decision variables between 0 and 0.5\n",
        "bounds = [zeros(T) 0.5*ones(T)]'\n",
        "\n",
        "#set # of simulations\n",
        "max_evals = 150\n",
        "\n",
        "results = optimize(a -> lake_opt(a, y, q, b, T, Xcrit), bounds, DE(options=Options(f_calls_limit=max_evals)))\n",
        "\n",
        "# get approximated minimum value\n",
        "fx = minimum(results)\n",
        "\n",
        "#get approximated minimizing value\n",
        "x = minimizer(results)\n",
        "\n",
        "# Evaluate the lake function using the solution to count failures\n",
        "X_opt = lake(x, y, q, b, T)\n",
        "num_failures = sum(X_opt[T+1, :] .> Xcrit)\n",
        "\n",
        "# Display the results\n",
        "println(\"Optimal objective value: $fx\")\n",
        "println(\"Number of failures: $num_failures\")\n"
      ]
    },
    {
      "cell_type": "markdown",
      "id": "0ba87dc5",
      "metadata": {},
      "source": [
        "When max_evals was 150, 500, 750, and 1000 (and % failure was held constant at 10%), it yielded the same results: Optimal objective value: 0.21058759608000296 and Number of failures: 1000. Note that the number that max_evals is set to is the number of monte carlo simulations.\n",
        "\n",
        "This is confusing because I thought if I put max_evals at 150, then a 100% failure rate would mean teh number of failures is 150. Somehow though, the number of failures exceeds the number of trials for 150, 500, and 750 which does not make sense. This implies it does not satisfy the constraints."
      ]
    },
    {
      "cell_type": "markdown",
      "id": "da0181d3",
      "metadata": {},
      "source": []
    },
    {
      "cell_type": "markdown",
      "id": "5e8171ff-04c2-45d3-a1ec-a6291eecd781",
      "metadata": {},
      "source": [
        "### Problem 3 (3 points)\n",
        "\n",
        "What did you learn about the use of these methods? Compare with your\n",
        "experience with linear programming from earlier in the semester.\n",
        "\n",
        "## References\n",
        "\n",
        "Put any consulted sources here, including classmates you worked with/who\n",
        "helped you."
      ]
    }
  ],
  "metadata": {
    "kernelspec": {
      "display_name": "Julia 1.9.2",
      "language": "julia",
      "name": "julia-1.9"
    },
    "language_info": {
      "file_extension": ".jl",
      "mimetype": "application/julia",
      "name": "julia",
      "version": "1.9.2"
    }
  },
  "nbformat": 4,
  "nbformat_minor": 5
}
